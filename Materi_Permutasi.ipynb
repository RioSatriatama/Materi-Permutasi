{
  "nbformat": 4,
  "nbformat_minor": 0,
  "metadata": {
    "colab": {
      "provenance": [],
      "authorship_tag": "ABX9TyM7tv3qX5b+JTuoUYHGjSCf",
      "include_colab_link": true
    },
    "kernelspec": {
      "name": "python3",
      "display_name": "Python 3"
    },
    "language_info": {
      "name": "python"
    }
  },
  "cells": [
    {
      "cell_type": "markdown",
      "metadata": {
        "id": "view-in-github",
        "colab_type": "text"
      },
      "source": [
        "<a href=\"https://colab.research.google.com/github/RioSatriatama/Materi-Permutasi/blob/main/Materi_Permutasi.ipynb\" target=\"_parent\"><img src=\"https://colab.research.google.com/assets/colab-badge.svg\" alt=\"Open In Colab\"/></a>"
      ]
    },
    {
      "cell_type": "markdown",
      "source": [
        "#**Permutasi adalah susunan atau urutan dari suatu kumpulan objek yang dapat dibedakan. Dalam matematika, permutasi adalah pengaturan urutan elemen-elemen dari suatu set tertentu di mana urutan elemen tersebut penting.**"
      ],
      "metadata": {
        "id": "dpVSsXaZWvXg"
      }
    },
    {
      "cell_type": "markdown",
      "source": [
        "# **Permutasi dengan Semua Elemen**"
      ],
      "metadata": {
        "id": "9bZVa3WjW-VN"
      }
    },
    {
      "cell_type": "code",
      "source": [
        "def permutasi(arr, l, r):\n",
        "    if l == r:\n",
        "        print(''.join(arr))\n",
        "    else:\n",
        "        for i in range(l, r + 1):\n",
        "            arr[l], arr[i] = arr[i], arr[l]\n",
        "            permutasi(arr, l + 1, r)\n",
        "            arr[l], arr[i] = arr[i], arr[l]  # backtrack\n",
        "\n",
        "# Contoh penggunaan\n",
        "string = \"ABC\"\n",
        "n = len(string)\n",
        "arr = list(string)\n",
        "permutasi(arr, 0, n - 1)"
      ],
      "metadata": {
        "colab": {
          "base_uri": "https://localhost:8080/"
        },
        "id": "plk2wz1vXB8f",
        "outputId": "2bd3a12f-a33e-464f-c9f0-63453ed310df"
      },
      "execution_count": 2,
      "outputs": [
        {
          "output_type": "stream",
          "name": "stdout",
          "text": [
            "ABC\n",
            "ACB\n",
            "BAC\n",
            "BCA\n",
            "CBA\n",
            "CAB\n"
          ]
        }
      ]
    },
    {
      "cell_type": "markdown",
      "source": [
        "#**Aplikasi Permutasi**"
      ],
      "metadata": {
        "id": "PJxC-HUlXMLU"
      }
    },
    {
      "cell_type": "markdown",
      "source": [
        "# Permutasi digunakan dalam berbagai bidang termasuk:\n",
        "\n",
        "- Kombinatorika: Untuk menghitung jumlah cara mengatur objek.\n",
        "- Kriptografi: Untuk membangkitkan kunci atau untuk penyandian data.\n",
        "- Statistik: Dalam analisis data, terutama dalam bootstrap sampling.\n",
        "- Pemrograman: Dalam pengujian dan algoritma pencarian."
      ],
      "metadata": {
        "id": "VmGnSxdvXRHR"
      }
    }
  ]
}